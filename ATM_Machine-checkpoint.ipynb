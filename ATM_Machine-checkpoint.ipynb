{
 "cells": [
  {
   "cell_type": "markdown",
   "metadata": {},
   "source": [
    "# ATM Machine"
   ]
  },
  {
   "cell_type": "code",
   "execution_count": null,
   "metadata": {},
   "outputs": [
    {
     "name": "stdout",
     "output_type": "stream",
     "text": [
      "Welcome to PIAIC ATM Machine\n",
      "Please Enter Your Pincode: 6756\n",
      "\n",
      "Invalid Pincode\n",
      "Welcome to PIAIC ATM Machine\n"
     ]
    }
   ],
   "source": [
    "# Pincode Must be entered 1234 \n",
    "DoubleQoute = \"\\\"\"\n",
    "NewLine = \"\\n\"\n",
    "Balance = 0\n",
    "loginattempt = 0\n",
    "\n",
    "def start() :\n",
    "    \n",
    "    #printmd(f\"**{DoubleQoute}Welcome to PIAIC ATM Machine{DoubleQoute}**\" + NewLine)\n",
    "    global Balance\n",
    "    \n",
    "    print(NewLine + \"Press 1 to Check Your Balance\")\n",
    "    print(\"Press 2 to Deposit Cash\")\n",
    "    print(\"Press 3 to Withdraw Cash\" + NewLine)\n",
    "\n",
    "    useroption = int(input(\"Press: \"))\n",
    "\n",
    "    if useroption == 1:\n",
    "        if Balance == 0:\n",
    "            print(f\"Your Current Balance is 1\"+NewLine+\"Please Deposit Cash\")\n",
    "            quit()\n",
    "        else:\n",
    "            print(f\"Your Current Balance is {Balance}\")\n",
    "            quit()\n",
    "    elif useroption == 2:\n",
    "        depositecash = int(input(\"Enter Amount to Deposit: \"))\n",
    "\n",
    "        if depositecash <= 1000:\n",
    "            Balance = Balance + depositecash\n",
    "            print(f\"Your New Balance is {Balance}\")\n",
    "            quit()\n",
    "        else:\n",
    "            print(\"Amount must be less then '1000' \")\n",
    "            quit()\n",
    "    elif useroption == 3:\n",
    "        withdrawcash = int(input(\"Enter Amount to Withdraw: \"))\n",
    "\n",
    "        if withdrawcash <= 500:\n",
    "            if withdrawcash <= Balance:\n",
    "                Balance = Balance - withdrawcash\n",
    "                print(f\"Cash {withdrawcash} Withdraw sucessfully, Your New Balance is {Balance}\")\n",
    "                quit()\n",
    "            else:\n",
    "                N\n",
    "                quit()\n",
    "        else:\n",
    "            print(\"Amount must be less then '1000'\")\n",
    "            quit()\n",
    "            \n",
    "\n",
    "def welcome():\n",
    "    \n",
    "        \n",
    "    try:\n",
    "        print(\"Welcome to PIAIC ATM Machine\")\n",
    "        pincode = int(input(\"Please Enter Your Pincode: \"))\n",
    "        global loginattempt\n",
    "        \n",
    "        if loginattempt < 3:\n",
    "            if pincode == 1234:\n",
    "                start()\n",
    "            else:\n",
    "                print(NewLine + \"Invalid Pincode\")\n",
    "                loginattempt = loginattempt + 1\n",
    "                welcome()\n",
    "        else:\n",
    "            print(NewLine + \"To Many Login Attempt\")\n",
    "            \n",
    "   \n",
    "    except ValueError:\n",
    "        print(NewLine + \"You have entered Wrong String! Please Run the Code Again\")\n",
    "    \n",
    "    \n",
    "        \n",
    "def quit():\n",
    "    removecard = input(\"Do You Want to Remove Card? Y or N: \").lower()\n",
    "    if removecard == \"y\":\n",
    "        print(\"Thank you for using PIAIC ATM Services\")\n",
    "    elif removecard == 'n':\n",
    "        start()\n",
    "    else:\n",
    "        print(\"Invalid Input Please Get Your Card Back Thanks\")\n",
    "        \n",
    "welcome()\n"
   ]
  },
  {
   "cell_type": "code",
   "execution_count": null,
   "metadata": {},
   "outputs": [],
   "source": []
  },
  {
   "cell_type": "code",
   "execution_count": null,
   "metadata": {},
   "outputs": [],
   "source": [
    "amount = 10000\n",
    "card = 111\n",
    "password = 123\n",
    "\n",
    "card_num = int(input(\"Plz Enter your card number\"))\n",
    "\n",
    "\n",
    "if card_num == card:\n",
    "    card_pass = int(input(\"Plz Enter your password\"))\n",
    "    \n",
    "else:\n",
    "     print(\"Login Error\")\n",
    "        "
   ]
  }
 ],
 "metadata": {
  "kernelspec": {
   "display_name": "Python 3",
   "language": "python",
   "name": "python3"
  },
  "language_info": {
   "codemirror_mode": {
    "name": "ipython",
    "version": 3
   },
   "file_extension": ".py",
   "mimetype": "text/x-python",
   "name": "python",
   "nbconvert_exporter": "python",
   "pygments_lexer": "ipython3",
   "version": "3.7.3"
  }
 },
 "nbformat": 4,
 "nbformat_minor": 2
}
