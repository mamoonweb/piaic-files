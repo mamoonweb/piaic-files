{
 "cells": [
  {
   "cell_type": "code",
   "execution_count": 8,
   "metadata": {},
   "outputs": [],
   "source": [
    "import numpy as np"
   ]
  },
  {
   "cell_type": "code",
   "execution_count": 18,
   "metadata": {},
   "outputs": [],
   "source": [
    "names = np.array(['bob','joy','medhi','nazo','khalil','muq','bilal'])"
   ]
  },
  {
   "cell_type": "code",
   "execution_count": 19,
   "metadata": {},
   "outputs": [],
   "source": [
    "data= np.random.randn(7,4)"
   ]
  },
  {
   "cell_type": "code",
   "execution_count": 20,
   "metadata": {},
   "outputs": [
    {
     "data": {
      "text/plain": [
       "array([[ 0.44038367, -1.68156364, -1.13361703, -0.50324197],\n",
       "       [ 0.73235201,  0.42639113,  0.95458815, -0.72203091],\n",
       "       [ 0.58711563, -2.981484  ,  1.95793775, -0.49544559],\n",
       "       [ 1.71166439,  1.35143787,  0.34670237,  0.61104035],\n",
       "       [ 2.28041896,  1.26774694,  1.01687181,  1.97429875],\n",
       "       [-0.23300555, -0.1916636 , -0.406567  ,  0.24830533],\n",
       "       [ 0.16867212, -0.31760167, -1.24729295, -0.0548638 ]])"
      ]
     },
     "execution_count": 20,
     "metadata": {},
     "output_type": "execute_result"
    }
   ],
   "source": [
    "data"
   ]
  },
  {
   "cell_type": "code",
   "execution_count": 21,
   "metadata": {},
   "outputs": [
    {
     "data": {
      "text/plain": [
       "array([ True, False, False, False, False, False, False])"
      ]
     },
     "execution_count": 21,
     "metadata": {},
     "output_type": "execute_result"
    }
   ],
   "source": [
    "names == 'bob'"
   ]
  },
  {
   "cell_type": "code",
   "execution_count": 22,
   "metadata": {},
   "outputs": [
    {
     "data": {
      "text/plain": [
       "array([[ 0.44038367, -1.68156364, -1.13361703, -0.50324197]])"
      ]
     },
     "execution_count": 22,
     "metadata": {},
     "output_type": "execute_result"
    }
   ],
   "source": [
    "data[names == 'bob']"
   ]
  },
  {
   "cell_type": "code",
   "execution_count": 23,
   "metadata": {},
   "outputs": [
    {
     "data": {
      "text/plain": [
       "array([[ 0.73235201,  0.42639113,  0.95458815, -0.72203091],\n",
       "       [ 0.58711563, -2.981484  ,  1.95793775, -0.49544559],\n",
       "       [ 1.71166439,  1.35143787,  0.34670237,  0.61104035],\n",
       "       [ 2.28041896,  1.26774694,  1.01687181,  1.97429875],\n",
       "       [-0.23300555, -0.1916636 , -0.406567  ,  0.24830533],\n",
       "       [ 0.16867212, -0.31760167, -1.24729295, -0.0548638 ]])"
      ]
     },
     "execution_count": 23,
     "metadata": {},
     "output_type": "execute_result"
    }
   ],
   "source": [
    "data[names != 'bob']"
   ]
  },
  {
   "cell_type": "code",
   "execution_count": 25,
   "metadata": {},
   "outputs": [
    {
     "data": {
      "text/plain": [
       "array([[-1.13361703, -0.50324197]])"
      ]
     },
     "execution_count": 25,
     "metadata": {},
     "output_type": "execute_result"
    }
   ],
   "source": [
    "data[names == 'bob' ,2:]"
   ]
  },
  {
   "cell_type": "code",
   "execution_count": null,
   "metadata": {},
   "outputs": [],
   "source": []
  }
 ],
 "metadata": {
  "kernelspec": {
   "display_name": "Python 3",
   "language": "python",
   "name": "python3"
  },
  "language_info": {
   "codemirror_mode": {
    "name": "ipython",
    "version": 3
   },
   "file_extension": ".py",
   "mimetype": "text/x-python",
   "name": "python",
   "nbconvert_exporter": "python",
   "pygments_lexer": "ipython3",
   "version": "3.7.3"
  }
 },
 "nbformat": 4,
 "nbformat_minor": 2
}
