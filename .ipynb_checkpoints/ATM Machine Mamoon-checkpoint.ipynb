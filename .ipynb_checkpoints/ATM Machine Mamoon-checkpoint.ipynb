{
 "cells": [
  {
   "cell_type": "code",
   "execution_count": 6,
   "metadata": {},
   "outputs": [
    {
     "name": "stdout",
     "output_type": "stream",
     "text": [
      "Plz Enter your card number 111\n",
      "Plz Enter your password 123\n",
      "Welcome user Mirza Mamoon Baig\n",
      "1: Check Balance\n",
      "2: Cash Deposit\n",
      "3: Cash Widthdraw\n",
      "Press :  2\n",
      "Enter Your Amount :  222\n",
      "Your Current Balance is: 242\n"
     ]
    }
   ],
   "source": [
    "amount = 20\n",
    "card = 111\n",
    "person = \"Mirza Mamoon Baig\"\n",
    "password = 123\n",
    "d = \"\\\"\"\n",
    "n = \"\\n\"\n",
    "card_num = int(input(\"Plz Enter your card number \"))\n",
    "\n",
    "\n",
    "if card_num == card:\n",
    "    card_pass = int(input(\"Plz Enter your password \"))\n",
    "    \n",
    "    if password == card_pass:\n",
    "        print(f\"Welcome user {person}\" + n + \"1: Check Balance\" + n  + \"2: Cash Deposit\" + n  + \"3: Cash Widthdraw\")\n",
    "        \n",
    "        options = int(input(\"Press :  \"))\n",
    "        \n",
    "        if options == 1:\n",
    "             print(f\"Your Current Balance is: {amount}\")\n",
    "                \n",
    "        elif options == 2: \n",
    "            \n",
    "                depositamount = int(input(\"Enter Your Amount :  \"))\n",
    "                amount = amount + depositamount\n",
    "                print(f\"Your Current Balance is: {amount}\")\n",
    "                \n",
    "        elif options == 3: \n",
    "                withdraw = int(input(\"Enter Your Amount :  \"))\n",
    "                if withdraw <= 5000:\n",
    "                    if withdraw <= amount:\n",
    "                        amount = amount - withdraw\n",
    "                        print(f\"Your Current Balance is: {amount}\")\n",
    "                    \n",
    "                    else:\n",
    "                        print(f\"You have entered insufficent Balance Amount, Your Current Balance is {amount} \")   \n",
    "                else:\n",
    "                    print(\"Your Daily Limit is 5000\")        \n",
    "        \n",
    "        else:\n",
    "            print(\"Error\")  \n",
    "        \n",
    "    else:\n",
    "        print(\"Login Error\")\n",
    "    \n",
    "else:\n",
    "    print(\"Login Error\")\n",
    "\n",
    "        "
   ]
  },
  {
   "cell_type": "code",
   "execution_count": null,
   "metadata": {},
   "outputs": [],
   "source": []
  },
  {
   "cell_type": "code",
   "execution_count": null,
   "metadata": {},
   "outputs": [],
   "source": []
  },
  {
   "cell_type": "code",
   "execution_count": null,
   "metadata": {},
   "outputs": [],
   "source": []
  }
 ],
 "metadata": {
  "kernelspec": {
   "display_name": "Python 3",
   "language": "python",
   "name": "python3"
  }
 },
 "nbformat": 4,
 "nbformat_minor": 2
}
