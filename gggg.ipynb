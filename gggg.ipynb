{
 "cells": [
  {
   "cell_type": "code",
   "execution_count": 17,
   "metadata": {},
   "outputs": [],
   "source": [
    "\n",
    "d = \"\\\"\"\n",
    "n = \"\\n\"\n",
    "\n",
    "def welcome():\n",
    "    \n",
    "    card_num = int(input(\"Plz Enter your card number \"))\n",
    "\n",
    "    if card_num == 111:\n",
    "        \n",
    "        card_pass = int(input(\"Plz Enter your password \"))\n",
    "    \n",
    "        if 123 == card_pass:\n",
    "            hi()\n",
    "    \n",
    "        else:\n",
    "            print(\"Login Error\")\n",
    "    \n",
    "    else:\n",
    "        print(\"Login Error\")\n",
    "        \n",
    "def hi():\n",
    "    \n",
    "    print(\"Hello World!\")\n",
    "    \n",
    "\n"
   ]
  },
  {
   "cell_type": "code",
   "execution_count": null,
   "metadata": {},
   "outputs": [],
   "source": [
    "def start():\n",
    "    global amount = 20\n",
    "    global card = 111\n",
    "    global person = \"Mirza Mamoon Baig\"\n",
    "    global password = 123\n",
    "        print(f\"Welcome user {person}\" + n + \"1: Check Balance\" + n  + \"2: Cash Deposit\" + n  + \"3: Cash Widthdraw\")\n",
    "        \n",
    "        options = int(input(\"Press :  \"))\n",
    "        \n",
    "        if options == 1:\n",
    "             print(f\"Your Current Balance is: {amount}\")\n",
    "                \n",
    "        elif options == 2: \n",
    "            \n",
    "                depositamount = int(input(\"Enter Your Amount :  \"))\n",
    "                amount = amount + depositamount\n",
    "                \n",
    "        elif options == 3: \n",
    "                withdraw = int(input(\"Enter Your Amount :  \"))\n",
    "                if withdraw <= 5000:\n",
    "                    if withdraw <= amount:\n",
    "                        amount = amount - withdraw\n",
    "                        print(f\"Your Current Balance is: {amount}\")\n",
    "                    \n",
    "                    else:\n",
    "                        print(f\"You have entered insufficent Balance Amount, Your Current Balance is {amount} \")   \n",
    "                else:\n",
    "                    print(\"Your Daily Limit is 5000\")        \n",
    "        \n",
    "        else:\n",
    "            print(\"Error\")  \n",
    "        \n"
   ]
  },
  {
   "cell_type": "code",
   "execution_count": null,
   "metadata": {},
   "outputs": [],
   "source": []
  }
 ],
 "metadata": {
  "kernelspec": {
   "display_name": "Python 3",
   "language": "python",
   "name": "python3"
  },
  "language_info": {
   "codemirror_mode": {
    "name": "ipython",
    "version": 3
   },
   "file_extension": ".py",
   "mimetype": "text/x-python",
   "name": "python",
   "nbconvert_exporter": "python",
   "pygments_lexer": "ipython3",
   "version": "3.7.3"
  }
 },
 "nbformat": 4,
 "nbformat_minor": 2
}
